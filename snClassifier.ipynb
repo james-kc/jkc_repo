{
 "cells": [
  {
   "cell_type": "code",
   "execution_count": 1,
   "id": "5dc1e1dc",
   "metadata": {},
   "outputs": [],
   "source": [
    "import pandas as pd\n",
    "from sklearn import tree\n",
    "from sklearn.model_selection import train_test_split\n",
    "from sklearn.metrics import accuracy_score\n",
    "import joblib\n",
    "import graphviz\n",
    "import datetime"
   ]
  },
  {
   "cell_type": "code",
   "execution_count": 10,
   "id": "36d6e3b7",
   "metadata": {},
   "outputs": [],
   "source": [
    "filename = \"store.h5\"\n",
    "dat = pd.read_hdf(filename)\n",
    "dat = dat.reset_index()\n",
    "\n",
    "X = dat.drop([\"redshift_spec\", \"redshift_spec_err\", 'snsubtype', 'sntype', 'index', 'snid', 'obs_duration'], axis=1)\n",
    "y = dat['snsubtype']\n",
    "\n",
    "snTypes = {}\n",
    "snTypeNo = 0\n",
    "\n",
    "for element in y:\n",
    "    if element in snTypes.keys():\n",
    "        pass\n",
    "    else:\n",
    "        snTypes[element] = snTypeNo\n",
    "        snTypeNo += 1\n",
    "\n",
    "for element in snTypes:\n",
    "    y = y.replace(element, snTypes[element])"
   ]
  },
  {
   "cell_type": "code",
   "execution_count": 11,
   "id": "406cd5da",
   "metadata": {},
   "outputs": [
    {
     "name": "stdout",
     "output_type": "stream",
     "text": [
      "Model Trained\n"
     ]
    }
   ],
   "source": [
    "X_train, X_test, y_train, y_test = train_test_split(X, y, test_size=0.2)\n",
    "\n",
    "model = tree.DecisionTreeRegressor()\n",
    "model.fit(X_train, y_train)\n",
    "\n",
    "dateTime = str(datetime.datetime.now()).replace(\":\", \"-\")\n",
    "joblib.dump(model, f'snClassifier - {dateTime}')\n",
    "\n",
    "print('Model Trained')"
   ]
  },
  {
   "cell_type": "code",
   "execution_count": 13,
   "id": "a860019b",
   "metadata": {},
   "outputs": [
    {
     "data": {
      "text/plain": [
       "0.7529861442904922"
      ]
     },
     "execution_count": 13,
     "metadata": {},
     "output_type": "execute_result"
    }
   ],
   "source": [
    "predictions = model.predict(X_test)\n",
    "\n",
    "score = accuracy_score(y_test, predictions)\n",
    "score"
   ]
  },
  {
   "cell_type": "code",
   "execution_count": null,
   "id": "0ae6e1c7",
   "metadata": {},
   "outputs": [],
   "source": []
  }
 ],
 "metadata": {
  "interpreter": {
   "hash": "09c1d539fbbe15e8cd9d418745363b8d149ec1a331f494b8a78a5944dfee2ece"
  },
  "kernelspec": {
   "display_name": "Python 3.7.9 64-bit (windows store)",
   "name": "python3"
  },
  "language_info": {
   "codemirror_mode": {
    "name": "ipython",
    "version": 3
   },
   "file_extension": ".py",
   "mimetype": "text/x-python",
   "name": "python",
   "nbconvert_exporter": "python",
   "pygments_lexer": "ipython3",
   "version": "3.7.9"
  }
 },
 "nbformat": 4,
 "nbformat_minor": 5
}
